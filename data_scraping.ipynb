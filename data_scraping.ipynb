{
 "cells": [
  {
   "cell_type": "code",
   "execution_count": 130,
   "id": "45725f26",
   "metadata": {},
   "outputs": [],
   "source": [
    "from selenium import webdriver\n",
    "from selenium.webdriver.common.by import By\n",
    "from selenium.webdriver.support.ui import WebDriverWait\n",
    "from selenium.webdriver.support import expected_conditions as EC\n",
    "\n",
    "from bs4 import BeautifulSoup\n",
    "import time\n",
    "import pandas as pd"
   ]
  },
  {
   "cell_type": "code",
   "execution_count": 88,
   "id": "66a03187",
   "metadata": {},
   "outputs": [],
   "source": [
    "driver = webdriver.Chrome()\n",
    "driver.get('https://help.shopee.co.id/portal/4/category/19-Belanja-di-Shopee/378-Baru-di-Shopee?page=1')\n",
    "\n",
    "driver.execute_script('window.scrollTo(0, 200)')\n",
    "time.sleep(0.5)\n",
    "\n",
    "try:\n",
    "    WebDriverWait(driver, 5).until(\n",
    "        EC.element_to_be_clickable((By.CLASS_NAME, 'header___rvuhG'))\n",
    "    )\n",
    "\n",
    "    dropdowns = driver.find_elements(By.CLASS_NAME, 'header___rvuhG')\n",
    "    dropdowns[0].click()\n",
    "    time.sleep(1)\n",
    "    \n",
    "    questions = []\n",
    "\n",
    "    for i, dropdown in enumerate(dropdowns):\n",
    "        try:\n",
    "            dropdown.click()\n",
    "            time.sleep(1)\n",
    "\n",
    "        except Exception as e:\n",
    "            pass\n",
    "\n",
    "except Exception as e:\n",
    "    pass\n",
    "\n",
    "driver.execute_script('window.scrollTo(0, 300);')\n",
    "time.sleep(0.5)\n",
    "\n",
    "questions = []\n",
    "\n",
    "try:\n",
    "    WebDriverWait(driver, 5).until(\n",
    "        EC.element_to_be_clickable((By.CLASS_NAME, 'category_item___LqcUb'))\n",
    "    )\n",
    "    \n",
    "    dropdown_items = driver.find_elements(By.CLASS_NAME, 'category_item___LqcUb')\n",
    "    dropdown_items[1].click()\n",
    "    time.sleep(1)\n",
    "\n",
    "    for i, dropdown_item in enumerate(dropdown_items):\n",
    "        try:\n",
    "            dropdown_item.click()\n",
    "            time.sleep(1)\n",
    "\n",
    "            html = driver.page_source\n",
    "            soup = BeautifulSoup(html, 'html.parser')\n",
    "            questions += soup.find('div', class_='list___RQ7Sh').find_all('a')\n",
    "\n",
    "            paginations = driver.find_elements(By.CLASS_NAME, 'shopee-react-pagination-pager__page')\n",
    "            if len(paginations):\n",
    "                # for j in range(int(paginations[-1].text)):\n",
    "                #     current_url = driver.current_url\n",
    "                #     new_url = current_url.split('?')[0]\n",
    "                #     new_url += f'?page={j+1}'\n",
    "                #     driver.get(new_url)\n",
    "                #     time.sleep(2)\n",
    "                for j, pagination in enumerate(paginations[1:], start=2):\n",
    "                    WebDriverWait(driver, 5).until(\n",
    "                        EC.element_to_be_clickable((By.CLASS_NAME, 'shopee-react-pagination-pager__page'))\n",
    "                    )\n",
    "                    pagination.click()\n",
    "                    time.sleep(1)\n",
    "                    questions += soup.find('div', class_='list___RQ7Sh').find_all('a')\n",
    "\n",
    "        except Exception as e:\n",
    "            pass\n",
    "\n",
    "except Exception as e:\n",
    "    pass \n",
    "\n",
    "driver.quit()"
   ]
  },
  {
   "cell_type": "code",
   "execution_count": null,
   "id": "b071d504",
   "metadata": {},
   "outputs": [
    {
     "name": "stdout",
     "output_type": "stream",
     "text": [
      "Panjang list pertanyaan: 937\n",
      "Panjang list jawaban: 937\n"
     ]
    }
   ],
   "source": [
    "questions_text = []\n",
    "answers_text = []\n",
    "\n",
    "driver = webdriver.Chrome()\n",
    "\n",
    "for question in questions:\n",
    "    questions_text.append(question.text)\n",
    "    driver.get(question.get('href'))\n",
    "    time.sleep(1.25)\n",
    "    html = driver.page_source\n",
    "    soup = BeautifulSoup(html, 'html.parser')\n",
    "    answers_text.append(soup.find('div', class_='right___P29Sy').text)\n",
    "    \n",
    "driver.quit()\n",
    "\n",
    "print(f'Panjang list pertanyaan: {len(questions_text)}')\n",
    "print(f'Panjang list jawaban: {len(answers_text)}')\n",
    "\n",
    "df = pd.DataFrame({\n",
    "    'questions': questions_text,\n",
    "    'answers': answers_text\n",
    "})\n",
    "\n",
    "df.head()\n",
    "\n",
    "df.to_csv('shopee_qna_data_raw.csv', index=False)"
   ]
  },
  {
   "cell_type": "code",
   "execution_count": 138,
   "id": "42f82c42",
   "metadata": {},
   "outputs": [
    {
     "name": "stdout",
     "output_type": "stream",
     "text": [
      "<class 'pandas.core.frame.DataFrame'>\n",
      "RangeIndex: 937 entries, 0 to 936\n",
      "Data columns (total 2 columns):\n",
      " #   Column     Non-Null Count  Dtype \n",
      "---  ------     --------------  ----- \n",
      " 0   questions  937 non-null    object\n",
      " 1   answers    937 non-null    object\n",
      "dtypes: object(2)\n",
      "memory usage: 14.8+ KB\n"
     ]
    }
   ],
   "source": [
    "df.info()"
   ]
  },
  {
   "cell_type": "code",
   "execution_count": 143,
   "id": "b5d66003",
   "metadata": {},
   "outputs": [],
   "source": [
    "df.set_index('questions', inplace=True)"
   ]
  },
  {
   "cell_type": "code",
   "execution_count": 145,
   "id": "16a5e64d",
   "metadata": {},
   "outputs": [
    {
     "name": "stdout",
     "output_type": "stream",
     "text": [
      "<class 'pandas.core.frame.DataFrame'>\n",
      "Index: 937 entries, [Shopee Live] Apa itu Lelang di Shopee Live? to Bagaimana proses pengembalian dana secara manual jika status pesanan gagal di sisi Merchant ShopeePay, namun status pembayaran ShopeePay/SPayLater berhasil?\n",
      "Data columns (total 1 columns):\n",
      " #   Column   Non-Null Count  Dtype \n",
      "---  ------   --------------  ----- \n",
      " 0   answers  937 non-null    object\n",
      "dtypes: object(1)\n",
      "memory usage: 14.6+ KB\n"
     ]
    }
   ],
   "source": [
    "df.info()"
   ]
  },
  {
   "cell_type": "code",
   "execution_count": 147,
   "id": "f5a32e74",
   "metadata": {},
   "outputs": [],
   "source": [
    "df.drop_duplicates(inplace=True)"
   ]
  },
  {
   "cell_type": "code",
   "execution_count": 148,
   "id": "28bde352",
   "metadata": {},
   "outputs": [
    {
     "name": "stdout",
     "output_type": "stream",
     "text": [
      "<class 'pandas.core.frame.DataFrame'>\n",
      "Index: 257 entries, [Shopee Live] Apa itu Lelang di Shopee Live? to Bagaimana proses pengembalian dana secara manual jika status pesanan gagal di sisi Merchant ShopeePay, namun status pembayaran ShopeePay/SPayLater berhasil?\n",
      "Data columns (total 1 columns):\n",
      " #   Column   Non-Null Count  Dtype \n",
      "---  ------   --------------  ----- \n",
      " 0   answers  257 non-null    object\n",
      "dtypes: object(1)\n",
      "memory usage: 4.0+ KB\n"
     ]
    }
   ],
   "source": [
    "df.info()"
   ]
  },
  {
   "cell_type": "code",
   "execution_count": 149,
   "id": "1cf164cf",
   "metadata": {},
   "outputs": [
    {
     "data": {
      "text/html": [
       "<div>\n",
       "<style scoped>\n",
       "    .dataframe tbody tr th:only-of-type {\n",
       "        vertical-align: middle;\n",
       "    }\n",
       "\n",
       "    .dataframe tbody tr th {\n",
       "        vertical-align: top;\n",
       "    }\n",
       "\n",
       "    .dataframe thead th {\n",
       "        text-align: right;\n",
       "    }\n",
       "</style>\n",
       "<table border=\"1\" class=\"dataframe\">\n",
       "  <thead>\n",
       "    <tr style=\"text-align: right;\">\n",
       "      <th></th>\n",
       "      <th>answers</th>\n",
       "    </tr>\n",
       "    <tr>\n",
       "      <th>questions</th>\n",
       "      <th></th>\n",
       "    </tr>\n",
       "  </thead>\n",
       "  <tbody>\n",
       "    <tr>\n",
       "      <th>[Shopee Live] Apa itu Lelang di Shopee Live?</th>\n",
       "      <td>[Shopee Live] Apa itu Lelang di Shopee Live?Ak...</td>\n",
       "    </tr>\n",
       "    <tr>\n",
       "      <th>[Grosir] Apa itu Produk Grosir?</th>\n",
       "      <td>[Grosir] Apa itu Produk Grosir?Produk Grosir m...</td>\n",
       "    </tr>\n",
       "    <tr>\n",
       "      <th>[Shopee Barokah] Apa itu Shopee Barokah?</th>\n",
       "      <td>[Shopee Barokah] Apa itu Shopee Barokah?Shopee...</td>\n",
       "    </tr>\n",
       "    <tr>\n",
       "      <th>[Baru di Shopee] Siapa Penjual Star atau Star+ Shopee?</th>\n",
       "      <td>[Baru di Shopee] Siapa Penjual Star atau Star+...</td>\n",
       "    </tr>\n",
       "    <tr>\n",
       "      <th>[Shopee Live] Apa saja kategori streaming yang dianggap berkualitas rendah di Shopee Live?</th>\n",
       "      <td>[Shopee Live] Apa saja kategori streaming yang...</td>\n",
       "    </tr>\n",
       "    <tr>\n",
       "      <th>...</th>\n",
       "      <td>...</td>\n",
       "    </tr>\n",
       "    <tr>\n",
       "      <th>Bagaimana cara Merchant ShopeePay menyimpan atau membagikan Kode QRIS outlet?</th>\n",
       "      <td>Bagaimana cara Merchant ShopeePay menyimpan at...</td>\n",
       "    </tr>\n",
       "    <tr>\n",
       "      <th>Berapa biaya dan saldo minimum penarikan dana Merchant ShopeeFood/ShopeePay?</th>\n",
       "      <td>Berapa biaya dan saldo minimum penarikan dana ...</td>\n",
       "    </tr>\n",
       "    <tr>\n",
       "      <th>Apa saja kriteria untuk melakukan pengembalian dana transaksi Merchant ShopeePay?</th>\n",
       "      <td>Apa saja kriteria untuk melakukan pengembalian...</td>\n",
       "    </tr>\n",
       "    <tr>\n",
       "      <th>Bagaimana jika Merchant ShopeePay menemukan selisih pada laporan rekapitulasi transaksi?</th>\n",
       "      <td>Bagaimana jika Merchant ShopeePay menemukan se...</td>\n",
       "    </tr>\n",
       "    <tr>\n",
       "      <th>Bagaimana proses pengembalian dana secara manual jika status pesanan gagal di sisi Merchant ShopeePay, namun status pembayaran ShopeePay/SPayLater berhasil?</th>\n",
       "      <td>Bagaimana proses pengembalian dana secara manu...</td>\n",
       "    </tr>\n",
       "  </tbody>\n",
       "</table>\n",
       "<p>257 rows × 1 columns</p>\n",
       "</div>"
      ],
      "text/plain": [
       "                                                                                              answers\n",
       "questions                                                                                            \n",
       "[Shopee Live] Apa itu Lelang di Shopee Live?        [Shopee Live] Apa itu Lelang di Shopee Live?Ak...\n",
       "[Grosir] Apa itu Produk Grosir?                     [Grosir] Apa itu Produk Grosir?Produk Grosir m...\n",
       "[Shopee Barokah] Apa itu Shopee Barokah?            [Shopee Barokah] Apa itu Shopee Barokah?Shopee...\n",
       "[Baru di Shopee] Siapa Penjual Star atau Star+ ...  [Baru di Shopee] Siapa Penjual Star atau Star+...\n",
       "[Shopee Live] Apa saja kategori streaming yang ...  [Shopee Live] Apa saja kategori streaming yang...\n",
       "...                                                                                               ...\n",
       "Bagaimana cara Merchant ShopeePay menyimpan ata...  Bagaimana cara Merchant ShopeePay menyimpan at...\n",
       "Berapa biaya dan saldo minimum penarikan dana M...  Berapa biaya dan saldo minimum penarikan dana ...\n",
       "Apa saja kriteria untuk melakukan pengembalian ...  Apa saja kriteria untuk melakukan pengembalian...\n",
       "Bagaimana jika Merchant ShopeePay menemukan sel...  Bagaimana jika Merchant ShopeePay menemukan se...\n",
       "Bagaimana proses pengembalian dana secara manua...  Bagaimana proses pengembalian dana secara manu...\n",
       "\n",
       "[257 rows x 1 columns]"
      ]
     },
     "execution_count": 149,
     "metadata": {},
     "output_type": "execute_result"
    }
   ],
   "source": [
    "df"
   ]
  },
  {
   "cell_type": "code",
   "execution_count": null,
   "id": "6eabe71b",
   "metadata": {},
   "outputs": [],
   "source": []
  }
 ],
 "metadata": {
  "kernelspec": {
   "display_name": "base",
   "language": "python",
   "name": "python3"
  },
  "language_info": {
   "codemirror_mode": {
    "name": "ipython",
    "version": 3
   },
   "file_extension": ".py",
   "mimetype": "text/x-python",
   "name": "python",
   "nbconvert_exporter": "python",
   "pygments_lexer": "ipython3",
   "version": "3.9.21"
  }
 },
 "nbformat": 4,
 "nbformat_minor": 5
}
