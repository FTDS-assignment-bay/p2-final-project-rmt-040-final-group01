{
  "cells": [
    {
      "cell_type": "code",
      "execution_count": 2,
      "metadata": {
        "id": "MiVTX8z4sjHW"
      },
      "outputs": [],
      "source": [
        "# !pip install langchain_community\n",
        "# !pip install pymongo[srv]\n",
        "# !pip install dnspython\n",
        "# !pip install langchain_openai\n",
        "# !pip install sentence-transformers"
      ]
    },
    {
      "cell_type": "code",
      "execution_count": null,
      "metadata": {
        "id": "-ORocR4GF1pW"
      },
      "outputs": [],
      "source": [
        "import pandas as pd\n",
        "from langchain.text_splitter import RecursiveCharacterTextSplitter\n",
        "from langchain.vectorstores import MongoDBAtlasVectorSearch\n",
        "from pymongo.mongo_client import MongoClient\n",
        "from langchain.embeddings import HuggingFaceEmbeddings\n",
        "\n",
        "import warnings\n",
        "warnings.filterwarnings(\"ignore\")"
      ]
    },
    {
      "cell_type": "code",
      "execution_count": null,
      "metadata": {
        "id": "jeXi5W9-GKjn"
      },
      "outputs": [],
      "source": [
        "df = pd.read_csv('../data/shopee_qna_data_clean.csv')"
      ]
    },
    {
      "cell_type": "code",
      "execution_count": 5,
      "metadata": {
        "colab": {
          "base_uri": "https://localhost:8080/",
          "height": 122
        },
        "id": "K5NCE1VwGqBa",
        "outputId": "28cfeb7c-b80b-4107-fc82-c78c2a1dc889"
      },
      "outputs": [
        {
          "data": {
            "application/vnd.google.colaboratory.intrinsic+json": {
              "type": "string"
            },
            "text/plain": [
              "'Aktivitas lelang di Shopee Live memungkinkan Anda untuk memenangkan penawaran produk yang ditetapkan oleh host/Penjual.Setelah Penjual memulai lelang, Kartu Lelang akan muncul di layar Anda. Kartu ini menunjukkan jenis lelang dan penghitung waktu mundur yang sudah ditentukan oleh Penjual sebagai batas akhir Anda untuk melakukan penawaran.Untuk berpartisipasi, pilih Gabung Sekarang setelah kartu lelang berubah menjadi oranye.\\nSetelah Lelang selesai, urutan pemenang dapat dilihat dengan memilih ikon Lelang. Nama pemenang yang dimunculkan hanya 10 orang yang tercepat.\\n️⚠️ Catatan:Beberapa Lelang hanya terbuka untuk Pengikut toko. Ikuti toko untuk berpartisipasi.Pemenang Lelang ditetapkan berdasarkan kecepatan Penawar.Apabila Anda menjadi pemenangnya, Penjual akan menghubungi Anda secara terpisah melalui chat atau sesuai ketentuan yang berlaku dari Penjual.\\nApakah artikel ini berguna?YaTidak'"
            ]
          },
          "execution_count": 5,
          "metadata": {},
          "output_type": "execute_result"
        }
      ],
      "source": [
        "answers_texts = df['answers'].dropna().to_list()\n",
        "answers_texts[0]"
      ]
    },
    {
      "cell_type": "markdown",
      "metadata": {},
      "source": [
        "Code dibawah memecah teks panjang (misalnya dari jawaban chatbot, artikel, dokumen, dsb) menjadi potongan-potongan kecil (chunk) agar bisa lebih mudah diproses dan di-index oleh model berbasis embedding/vector store."
      ]
    },
    {
      "cell_type": "code",
      "execution_count": null,
      "metadata": {
        "id": "dTlQuVl9Gryj"
      },
      "outputs": [],
      "source": [
        "# proses preprocessing data teks sebelum dimasukkan ke vector store\n",
        "\n",
        "splitter = RecursiveCharacterTextSplitter(chunk_size=1000, chunk_overlap=200)\n",
        "docs = splitter.create_documents(answers_texts)"
      ]
    },
    {
      "cell_type": "code",
      "execution_count": null,
      "metadata": {
        "colab": {
          "base_uri": "https://localhost:8080/",
          "height": 54
        },
        "id": "xE7fg39cGuB4",
        "outputId": "5ae95e9e-0a7a-44f3-d479-7d7000e07517"
      },
      "outputs": [
        {
          "name": "stderr",
          "output_type": "stream",
          "text": [
            "WARNING:huggingface_hub.file_download:Xet Storage is enabled for this repo, but the 'hf_xet' package is not installed. Falling back to regular HTTP download. For better performance, install the package with: `pip install huggingface_hub[hf_xet]` or `pip install hf_xet`\n"
          ]
        }
      ],
      "source": [
        "# %%capture\n",
        "# proses embedding\n",
        "\n",
        "embeddings = HuggingFaceEmbeddings(model_name=\"sentence-transformers/all-MiniLM-L6-v2\")"
      ]
    },
    {
      "cell_type": "code",
      "execution_count": null,
      "metadata": {
        "id": "ppcG_L-CG1WZ"
      },
      "outputs": [],
      "source": [
        "# Membangun koneksi dengan MongoDB\n",
        "# URI mongo db silahkan anda ganti dengan URI dengan URI database mongodb anda\n",
        "uri = f'mongodb+srv://wajemonstudio:<MONGO_DB_PASS>@wajemon.okrzgyr.mongodb.net/'\n",
        "client = MongoClient(uri, tls=True)"
      ]
    },
    {
      "cell_type": "code",
      "execution_count": 9,
      "metadata": {
        "id": "2ZQCOF8oHAFQ"
      },
      "outputs": [],
      "source": [
        "collection = client['shopee']['answer_vec']"
      ]
    },
    {
      "cell_type": "markdown",
      "metadata": {},
      "source": [
        "Menyimpan dokumen yang sudah dipotong (docs) ke dalam vector store berbasis MongoDB Atlas"
      ]
    },
    {
      "cell_type": "code",
      "execution_count": null,
      "metadata": {
        "id": "jBsQY6m2HVxs"
      },
      "outputs": [],
      "source": [
        "docsearch = MongoDBAtlasVectorSearch.from_documents(\n",
        "    docs, embeddings, collection=collection, index_name=\"vector_index\"\n",
        ")"
      ]
    }
  ],
  "metadata": {
    "colab": {
      "provenance": []
    },
    "kernelspec": {
      "display_name": "Python 3",
      "name": "python3"
    },
    "language_info": {
      "name": "python"
    }
  },
  "nbformat": 4,
  "nbformat_minor": 0
}
